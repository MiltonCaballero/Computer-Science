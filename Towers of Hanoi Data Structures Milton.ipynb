{
 "cells": [
  {
   "cell_type": "markdown",
   "metadata": {},
   "source": [
    "### Creating Node Class"
   ]
  },
  {
   "cell_type": "code",
   "execution_count": 1,
   "metadata": {},
   "outputs": [],
   "source": [
    "class Node:\n",
    "  def __init__(self, value, link_node=None):\n",
    "    self.value = value\n",
    "    self.link_node = link_node\n",
    "    \n",
    "  def set_next_node(self, link_node):\n",
    "    self.link_node = link_node\n",
    "    \n",
    "  def get_next_node(self):\n",
    "    return self.link_node\n",
    "  \n",
    "  def get_value(self):\n",
    "    return self.value\n",
    "    "
   ]
  },
  {
   "cell_type": "markdown",
   "metadata": {},
   "source": [
    "### Creating Stack Class"
   ]
  },
  {
   "cell_type": "code",
   "execution_count": 2,
   "metadata": {},
   "outputs": [],
   "source": [
    "class Stack:\n",
    "  def __init__(self, name):\n",
    "    self.size = 0\n",
    "    self.top_item = None\n",
    "    self.limit = 1000\n",
    "    self.name = name\n",
    "  \n",
    "  def push(self, value):\n",
    "    if self.has_space():\n",
    "      item = Node(value)\n",
    "      item.set_next_node(self.top_item)\n",
    "      self.top_item = item\n",
    "      self.size += 1\n",
    "    else:\n",
    "      print(\"No more room!\")\n",
    "\n",
    "  def pop(self):\n",
    "    if self.size > 0:\n",
    "      item_to_remove = self.top_item\n",
    "      self.top_item = item_to_remove.get_next_node()\n",
    "      self.size -= 1\n",
    "      return item_to_remove.get_value()\n",
    "    print(\"This stack is totally empty.\")\n",
    "\n",
    "  def peek(self):\n",
    "    if self.size > 0:\n",
    "      return self.top_item.get_value()\n",
    "    print(\"Nothing to see here!\")\n",
    "\n",
    "  def has_space(self):\n",
    "    return self.limit > self.size\n",
    "\n",
    "  def is_empty(self):\n",
    "    return self.size == 0\n",
    "  \n",
    "  def get_size(self):\n",
    "    return self.size\n",
    "  \n",
    "  def get_name(self):\n",
    "    return self.name\n",
    "  \n",
    "  def print_items(self):\n",
    "    pointer = self.top_item\n",
    "    print_list = []\n",
    "    while(pointer):\n",
    "      print_list.append(pointer.get_value())\n",
    "      pointer = pointer.get_next_node()\n",
    "    print_list.reverse()\n",
    "    print(\"{0} Stack: {1}\".format(self.get_name(), print_list))"
   ]
  },
  {
   "cell_type": "markdown",
   "metadata": {},
   "source": [
    "### Creating the Stacks"
   ]
  },
  {
   "cell_type": "code",
   "execution_count": 5,
   "metadata": {},
   "outputs": [
    {
     "name": "stdout",
     "output_type": "stream",
     "text": [
      "\n",
      "Let's play Towers of Hanoi!!\n"
     ]
    }
   ],
   "source": [
    "print(\"\\nLet's play Towers of Hanoi!!\")\n",
    "\n",
    "stacks = []\n",
    "\n",
    "left_stack = Stack(\"Left\")\n",
    "middle_stack = Stack(\"Middle\")\n",
    "right_stack = Stack(\"Right\")\n",
    "\n",
    "stacks.append(left_stack)\n",
    "stacks.append(middle_stack)\n",
    "stacks.append(right_stack)"
   ]
  },
  {
   "cell_type": "markdown",
   "metadata": {},
   "source": [
    "### Setting up the Game"
   ]
  },
  {
   "cell_type": "code",
   "execution_count": 6,
   "metadata": {},
   "outputs": [
    {
     "name": "stdout",
     "output_type": "stream",
     "text": [
      "\n",
      "The fastest you can solve this game is in 7 moves.\n"
     ]
    }
   ],
   "source": [
    "num_disks = int(input(\"\\nHow many disks do you want to play with?\\n\"))\n",
    "\n",
    "while num_disks < 3:\n",
    "    num_disks = int(input(\"Enter a number greater than or equal to 3\\n\"))\n",
    "\n",
    "for i in range(num_disks,0,-1):\n",
    "    left_stack.push(i)\n",
    "\n",
    "num_optimal_moves = (2**num_disks) - 1\n",
    "print(\"\\nThe fastest you can solve this game is in {} moves.\".format(num_optimal_moves))"
   ]
  },
  {
   "cell_type": "markdown",
   "metadata": {},
   "source": [
    "### Getting User Input"
   ]
  },
  {
   "cell_type": "code",
   "execution_count": 7,
   "metadata": {},
   "outputs": [],
   "source": [
    "def get_input():\n",
    "    choices = [i.get_name()[0] for i in stacks]\n",
    "    while True:\n",
    "        for i in range(len(stacks)):\n",
    "            name = stacks[i].get_name()\n",
    "            letter = choices[i]\n",
    "            print(\"Enter {} for {}\".format(letter,name))\n",
    "        user_input = input(\"\")\n",
    "        if user_input in choices:\n",
    "            for i in range(len(stacks)):\n",
    "                if user_input == choices[i]:\n",
    "                    return stacks[i]"
   ]
  },
  {
   "cell_type": "markdown",
   "metadata": {},
   "source": [
    "### Playing the Game"
   ]
  },
  {
   "cell_type": "code",
   "execution_count": 8,
   "metadata": {},
   "outputs": [
    {
     "name": "stdout",
     "output_type": "stream",
     "text": [
      "\n",
      "\n",
      "\n",
      "...Current Stacks...\n",
      "Left Stack: [3, 2, 1]\n",
      "Middle Stack: []\n",
      "Right Stack: []\n",
      "\n",
      "Which stack do you want to move from?\n",
      "\n",
      "Enter L for Left\n",
      "Enter M for Middle\n",
      "Enter R for Right\n",
      "\n",
      "Which stack do you want to move to?\n",
      "\n",
      "Enter L for Left\n",
      "Enter M for Middle\n",
      "Enter R for Right\n",
      "\n",
      "\n",
      "\n",
      "...Current Stacks...\n",
      "Left Stack: [3, 2]\n",
      "Middle Stack: []\n",
      "Right Stack: [1]\n",
      "\n",
      "Which stack do you want to move from?\n",
      "\n",
      "Enter L for Left\n",
      "Enter M for Middle\n",
      "Enter R for Right\n",
      "\n",
      "Which stack do you want to move to?\n",
      "\n",
      "Enter L for Left\n",
      "Enter M for Middle\n",
      "Enter R for Right\n",
      "\n",
      "\n",
      "\n",
      "...Current Stacks...\n",
      "Left Stack: [3]\n",
      "Middle Stack: [2]\n",
      "Right Stack: [1]\n",
      "\n",
      "Which stack do you want to move from?\n",
      "\n",
      "Enter L for Left\n",
      "Enter M for Middle\n",
      "Enter R for Right\n",
      "\n",
      "Which stack do you want to move to?\n",
      "\n",
      "Enter L for Left\n",
      "Enter M for Middle\n",
      "Enter R for Right\n",
      "\n",
      "\n",
      "\n",
      "...Current Stacks...\n",
      "Left Stack: [3]\n",
      "Middle Stack: [2, 1]\n",
      "Right Stack: []\n",
      "\n",
      "Which stack do you want to move from?\n",
      "\n",
      "Enter L for Left\n",
      "Enter M for Middle\n",
      "Enter R for Right\n",
      "\n",
      "Which stack do you want to move to?\n",
      "\n",
      "Enter L for Left\n",
      "Enter M for Middle\n",
      "Enter R for Right\n",
      "\n",
      "\n",
      "\n",
      "...Current Stacks...\n",
      "Left Stack: []\n",
      "Middle Stack: [2, 1]\n",
      "Right Stack: [3]\n",
      "\n",
      "Which stack do you want to move from?\n",
      "\n",
      "Enter L for Left\n",
      "Enter M for Middle\n",
      "Enter R for Right\n",
      "\n",
      "Which stack do you want to move to?\n",
      "\n",
      "Enter L for Left\n",
      "Enter M for Middle\n",
      "Enter R for Right\n",
      "\n",
      "\n",
      "\n",
      "...Current Stacks...\n",
      "Left Stack: [1]\n",
      "Middle Stack: [2]\n",
      "Right Stack: [3]\n",
      "\n",
      "Which stack do you want to move from?\n",
      "\n",
      "Enter L for Left\n",
      "Enter M for Middle\n",
      "Enter R for Right\n",
      "\n",
      "Which stack do you want to move to?\n",
      "\n",
      "Enter L for Left\n",
      "Enter M for Middle\n",
      "Enter R for Right\n",
      "\n",
      "\n",
      "\n",
      "...Current Stacks...\n",
      "Left Stack: [1]\n",
      "Middle Stack: []\n",
      "Right Stack: [3, 2]\n",
      "\n",
      "Which stack do you want to move from?\n",
      "\n",
      "Enter L for Left\n",
      "Enter M for Middle\n",
      "Enter R for Right\n",
      "\n",
      "Which stack do you want to move to?\n",
      "\n",
      "Enter L for Left\n",
      "Enter M for Middle\n",
      "Enter R for Right\n",
      "\n",
      "\n",
      "You completed the game in 7 moves, and the optimal number of moves is 7\n"
     ]
    }
   ],
   "source": [
    "num_user_moves = 0\n",
    "\n",
    "while right_stack.get_size() != num_disks:\n",
    "    print(\"\\n\\n\\n...Current Stacks...\")\n",
    "    for i in stacks:\n",
    "        i.print_items()\n",
    "    while True:\n",
    "        print(\"\\nWhich stack do you want to move from?\\n\")\n",
    "        from_stack = get_input()\n",
    "        print(\"\\nWhich stack do you want to move to?\\n\")\n",
    "        to_stack = get_input()\n",
    "        \n",
    "        if from_stack.get_size() == 0:\n",
    "            print(\"\\n\\nInvalid Move. Try Again\")\n",
    "        elif to_stack.get_size() == 0 or (from_stack.peek() < to_stack.peek()):\n",
    "            disk = from_stack.pop()\n",
    "            to_stack.push(disk)\n",
    "            num_user_moves += 1\n",
    "            break\n",
    "        else:\n",
    "            print(\"\\n\\nInvalid Move. Try Again\")\n",
    "\n",
    "print(\"\\n\\nYou completed the game in {} moves, and the optimal number of moves is {}\".format(num_user_moves,num_optimal_moves))"
   ]
  }
 ],
 "metadata": {
  "kernelspec": {
   "display_name": "base",
   "language": "python",
   "name": "python3"
  },
  "language_info": {
   "codemirror_mode": {
    "name": "ipython",
    "version": 3
   },
   "file_extension": ".py",
   "mimetype": "text/x-python",
   "name": "python",
   "nbconvert_exporter": "python",
   "pygments_lexer": "ipython3",
   "version": "3.11.5"
  }
 },
 "nbformat": 4,
 "nbformat_minor": 2
}
